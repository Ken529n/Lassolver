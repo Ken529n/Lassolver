{
  "cells": [
    {
      "cell_type": "code",
      "execution_count": 2,
      "metadata": {
        "id": "cM-u4qW2gwSn"
      },
      "outputs": [],
      "source": [
        "import numpy as np\n",
        "import matplotlib.pyplot as plt\n",
        "from tqdm import tqdm"
      ]
    },
    {
      "cell_type": "code",
      "execution_count": 3,
      "metadata": {
        "id": "4hE2BX8lgwSo"
      },
      "outputs": [],
      "source": [
        "from lassolver.utils.func import *\n",
        "from lassolver.utils.signal import *\n",
        "from lassolver.utils.utils import *\n",
        "\n",
        "from lassolver.matrices.iid_gauss import iidGaussian\n",
        "from lassolver.matrices.uni_invar import UniInvar\n",
        "\n",
        "from lassolver.solver.amp import AMP\n",
        "from lassolver.solver.oamp import OAMP\n",
        "\n",
        "from lassolver.dsolver.d_amp import D_AMP\n",
        "from lassolver.dsolver.d_oamp import D_OAMP"
      ]
    },
    {
      "cell_type": "code",
      "execution_count": 3,
      "metadata": {
        "id": "2VKoKn2EgwSo"
      },
      "outputs": [],
      "source": []
    },
    {
      "cell_type": "markdown",
      "metadata": {
        "id": "OEVf5rzGgwSo"
      },
      "source": [
        "# 数値実験の設定"
      ]
    },
    {
      "cell_type": "code",
      "execution_count": 4,
      "metadata": {
        "id": "ZQ4ye_3pgwSp"
      },
      "outputs": [],
      "source": [
        "N = 4000  # 列数\n",
        "alpha = 0.5  # 圧縮率\n",
        "M = int(alpha*N)  # 行数\n",
        "rho = 0.2  # 非零成分の割合"
      ]
    },
    {
      "cell_type": "code",
      "execution_count": 5,
      "metadata": {
        "id": "wHXHb50PgwSp"
      },
      "outputs": [],
      "source": [
        "SNR = 60  # 信号対雑音比\n",
        "kappa = 5  # 条件数\n",
        "P = 10  # ノード数\n",
        "T = 40  # 反復回数\n",
        "sim = 100  # 実験数"
      ]
    },
    {
      "cell_type": "markdown",
      "metadata": {
        "id": "CFC46miCgwSp"
      },
      "source": [
        "# i.i.d.ガウス行列での信号再構成"
      ]
    },
    {
      "cell_type": "code",
      "execution_count": 6,
      "metadata": {
        "id": "hQEY7UMfgwSq"
      },
      "outputs": [],
      "source": [
        "MSE_tmpG = np.empty((4, sim, T+1))\n",
        "CommCost_tmpG = np.empty((2, sim, T))"
      ]
    },
    {
      "cell_type": "code",
      "execution_count": null,
      "metadata": {
        "id": "nMIHXCThgwSq",
        "outputId": "18fc720f-2cda-4968-ca6e-bd3442a7c246"
      },
      "outputs": [
        {
          "name": "stderr",
          "output_type": "stream",
          "text": [
            "  0%|          | 0/10 [00:00<?, ?it/s]\n",
            "  0%|          | 0/10 [00:00<?, ?it/s]\u001b[A\n",
            " 10%|█         | 1/10 [02:15<20:18, 135.34s/it]\u001b[A\n",
            " 20%|██        | 2/10 [04:30<18:00, 135.04s/it]\u001b[A\n",
            " 30%|███       | 3/10 [06:44<15:44, 134.93s/it]\u001b[A\n",
            " 40%|████      | 4/10 [09:00<13:31, 135.23s/it]\u001b[A\n",
            " 50%|█████     | 5/10 [11:16<11:18, 135.62s/it]\u001b[A\n",
            " 60%|██████    | 6/10 [13:36<09:08, 137.02s/it]\u001b[A\n",
            " 70%|███████   | 7/10 [15:53<06:51, 137.02s/it]\u001b[A\n",
            " 80%|████████  | 8/10 [18:10<04:33, 136.78s/it]\u001b[A\n",
            " 90%|█████████ | 9/10 [20:28<02:17, 137.16s/it]\u001b[A\n",
            "100%|██████████| 10/10 [22:44<00:00, 136.47s/it]\u001b[A\n",
            " 10%|█         | 1/10 [22:44<3:24:44, 1364.92s/it]\n",
            "  0%|          | 0/10 [00:00<?, ?it/s]\u001b[A\n",
            " 10%|█         | 1/10 [02:16<20:27, 136.42s/it]\u001b[A\n",
            " 20%|██        | 2/10 [04:30<18:01, 135.20s/it]\u001b[A\n",
            " 30%|███       | 3/10 [06:47<15:52, 136.02s/it]\u001b[A\n",
            " 40%|████      | 4/10 [09:03<13:34, 135.74s/it]\u001b[A\n",
            " 50%|█████     | 5/10 [11:17<11:16, 135.28s/it]\u001b[A\n",
            " 60%|██████    | 6/10 [13:31<08:59, 134.95s/it]\u001b[A\n",
            " 70%|███████   | 7/10 [15:46<06:44, 134.91s/it]\u001b[A\n",
            " 80%|████████  | 8/10 [17:59<04:28, 134.33s/it]\u001b[A\n",
            " 90%|█████████ | 9/10 [20:15<02:14, 134.76s/it]\u001b[A\n",
            "100%|██████████| 10/10 [22:33<00:00, 135.38s/it]\u001b[A\n",
            " 20%|██        | 2/10 [45:18<3:01:07, 1358.47s/it]\n",
            "  0%|          | 0/10 [00:00<?, ?it/s]\u001b[A\n",
            " 10%|█         | 1/10 [02:16<20:32, 136.92s/it]\u001b[A\n",
            " 20%|██        | 2/10 [04:30<18:00, 135.07s/it]\u001b[A\n",
            " 30%|███       | 3/10 [06:43<15:39, 134.16s/it]\u001b[A\n",
            " 40%|████      | 4/10 [08:57<13:25, 134.18s/it]\u001b[A\n",
            " 50%|█████     | 5/10 [11:12<11:12, 134.42s/it]\u001b[A\n",
            " 60%|██████    | 6/10 [13:32<09:05, 136.28s/it]\u001b[A\n",
            " 70%|███████   | 7/10 [15:48<06:48, 136.00s/it]\u001b[A\n",
            " 80%|████████  | 8/10 [18:04<04:32, 136.17s/it]\u001b[A\n",
            " 90%|█████████ | 9/10 [20:18<02:15, 135.32s/it]\u001b[A\n",
            "100%|██████████| 10/10 [22:33<00:00, 135.31s/it]\u001b[A\n",
            " 30%|███       | 3/10 [1:07:52<2:38:12, 1356.10s/it]\n",
            "  0%|          | 0/10 [00:00<?, ?it/s]\u001b[A\n",
            " 10%|█         | 1/10 [02:12<19:48, 132.04s/it]\u001b[A\n",
            " 20%|██        | 2/10 [04:26<17:48, 133.60s/it]\u001b[A\n",
            " 30%|███       | 3/10 [06:39<15:31, 133.13s/it]\u001b[A\n",
            " 40%|████      | 4/10 [08:56<13:28, 134.82s/it]\u001b[A\n",
            " 50%|█████     | 5/10 [11:12<11:15, 135.16s/it]\u001b[A\n",
            " 60%|██████    | 6/10 [13:27<09:00, 135.09s/it]\u001b[A\n",
            " 70%|███████   | 7/10 [15:43<06:46, 135.37s/it]\u001b[A\n",
            " 80%|████████  | 8/10 [17:56<04:29, 134.77s/it]\u001b[A\n",
            " 90%|█████████ | 9/10 [20:16<02:16, 136.24s/it]\u001b[A\n",
            "100%|██████████| 10/10 [22:28<00:00, 134.83s/it]\u001b[A\n",
            " 40%|████      | 4/10 [1:30:20<2:15:18, 1353.11s/it]\n",
            "  0%|          | 0/10 [00:00<?, ?it/s]\u001b[A\n",
            " 10%|█         | 1/10 [02:22<21:26, 142.93s/it]\u001b[A\n",
            " 20%|██        | 2/10 [04:38<18:28, 138.62s/it]\u001b[A\n",
            " 30%|███       | 3/10 [06:55<16:06, 138.02s/it]\u001b[A\n",
            " 40%|████      | 4/10 [09:14<13:50, 138.46s/it]\u001b[A\n",
            " 50%|█████     | 5/10 [11:33<11:31, 138.34s/it]\u001b[A\n",
            " 60%|██████    | 6/10 [13:53<09:16, 139.15s/it]\u001b[A\n",
            " 70%|███████   | 7/10 [16:13<06:58, 139.45s/it]\u001b[A\n",
            " 80%|████████  | 8/10 [18:31<04:37, 138.84s/it]\u001b[A\n",
            " 90%|█████████ | 9/10 [20:48<02:18, 138.26s/it]\u001b[A\n",
            "100%|██████████| 10/10 [23:07<00:00, 138.78s/it]\u001b[A\n",
            " 50%|█████     | 5/10 [1:53:28<1:53:48, 1365.68s/it]\n",
            "  0%|          | 0/10 [00:00<?, ?it/s]\u001b[A\n",
            " 10%|█         | 1/10 [02:19<20:59, 139.96s/it]\u001b[A\n",
            " 20%|██        | 2/10 [04:46<19:08, 143.59s/it]\u001b[A\n",
            " 30%|███       | 3/10 [07:14<17:00, 145.78s/it]\u001b[A\n",
            " 40%|████      | 4/10 [09:43<14:43, 147.25s/it]\u001b[A\n",
            " 50%|█████     | 5/10 [12:06<12:08, 145.66s/it]\u001b[A\n",
            " 60%|██████    | 6/10 [14:24<09:31, 142.79s/it]\u001b[A\n",
            " 70%|███████   | 7/10 [16:40<07:02, 140.85s/it]\u001b[A\n",
            " 80%|████████  | 8/10 [18:57<04:38, 139.46s/it]\u001b[A\n",
            " 90%|█████████ | 9/10 [21:23<02:21, 141.39s/it]\u001b[A\n",
            "100%|██████████| 10/10 [23:41<00:00, 142.11s/it]\u001b[A\n",
            " 60%|██████    | 6/10 [2:17:09<1:32:18, 1384.58s/it]\n",
            "  0%|          | 0/10 [00:00<?, ?it/s]\u001b[A\n",
            " 10%|█         | 1/10 [02:23<21:33, 143.71s/it]\u001b[A\n",
            " 20%|██        | 2/10 [04:41<18:42, 140.35s/it]\u001b[A\n",
            " 30%|███       | 3/10 [06:57<16:09, 138.43s/it]\u001b[A\n",
            " 40%|████      | 4/10 [09:11<13:40, 136.68s/it]\u001b[A\n",
            " 50%|█████     | 5/10 [11:29<11:25, 137.10s/it]\u001b[A\n",
            " 60%|██████    | 6/10 [13:47<09:09, 137.40s/it]\u001b[A\n",
            " 70%|███████   | 7/10 [16:06<06:53, 137.92s/it]\u001b[A\n",
            " 80%|████████  | 8/10 [18:23<04:35, 137.62s/it]\u001b[A\n",
            " 90%|█████████ | 9/10 [20:43<02:18, 138.37s/it]\u001b[A\n",
            "100%|██████████| 10/10 [22:57<00:00, 137.78s/it]\u001b[A\n",
            " 70%|███████   | 7/10 [2:40:07<1:09:07, 1382.41s/it]\n",
            "  0%|          | 0/10 [00:00<?, ?it/s]\u001b[A\n",
            " 10%|█         | 1/10 [02:13<20:05, 133.95s/it]\u001b[A\n",
            " 20%|██        | 2/10 [04:36<18:34, 139.27s/it]\u001b[A\n",
            " 30%|███       | 3/10 [06:54<16:10, 138.63s/it]\u001b[A\n",
            " 40%|████      | 4/10 [09:12<13:50, 138.34s/it]\u001b[A\n",
            " 50%|█████     | 5/10 [11:27<11:25, 137.11s/it]\u001b[A\n",
            " 60%|██████    | 6/10 [13:41<09:03, 135.99s/it]\u001b[A\n",
            " 70%|███████   | 7/10 [16:02<06:52, 137.49s/it]\u001b[A\n",
            " 80%|████████  | 8/10 [18:19<04:35, 137.57s/it]\u001b[A\n",
            " 90%|█████████ | 9/10 [20:36<02:17, 137.41s/it]\u001b[A\n",
            "100%|██████████| 10/10 [22:51<00:00, 137.17s/it]\u001b[A\n",
            " 80%|████████  | 8/10 [3:02:59<45:58, 1379.07s/it]  \n",
            "  0%|          | 0/10 [00:00<?, ?it/s]\u001b[A\n",
            " 10%|█         | 1/10 [02:17<20:41, 137.91s/it]\u001b[A\n",
            " 20%|██        | 2/10 [04:34<18:18, 137.34s/it]\u001b[A\n",
            " 30%|███       | 3/10 [06:47<15:47, 135.35s/it]\u001b[A\n",
            " 40%|████      | 4/10 [09:02<13:31, 135.23s/it]\u001b[A\n",
            " 50%|█████     | 5/10 [11:19<11:18, 135.62s/it]\u001b[A\n",
            " 60%|██████    | 6/10 [13:34<09:02, 135.61s/it]\u001b[A\n",
            " 70%|███████   | 7/10 [15:52<06:49, 136.43s/it]\u001b[A\n",
            " 80%|████████  | 8/10 [18:09<04:32, 136.38s/it]\u001b[A\n",
            " 90%|█████████ | 9/10 [20:25<02:16, 136.49s/it]\u001b[A\n",
            "100%|██████████| 10/10 [22:40<00:00, 136.10s/it]\u001b[A\n",
            " 90%|█████████ | 9/10 [3:25:40<22:53, 1373.47s/it]\n",
            "  0%|          | 0/10 [00:00<?, ?it/s]\u001b[A\n",
            " 10%|█         | 1/10 [02:16<20:30, 136.75s/it]\u001b[A\n",
            " 20%|██        | 2/10 [04:32<18:08, 136.06s/it]\u001b[A\n",
            " 30%|███       | 3/10 [06:51<16:02, 137.43s/it]\u001b[A\n",
            " 40%|████      | 4/10 [09:06<13:38, 136.41s/it]\u001b[A\n",
            " 50%|█████     | 5/10 [11:28<11:33, 138.60s/it]\u001b[A\n",
            " 60%|██████    | 6/10 [13:43<09:08, 137.18s/it]\u001b[A\n",
            " 70%|███████   | 7/10 [15:56<06:47, 136.00s/it]\u001b[A\n",
            " 80%|████████  | 8/10 [18:09<04:30, 135.02s/it]\u001b[A\n",
            " 90%|█████████ | 9/10 [20:24<02:14, 134.88s/it]\u001b[A\n",
            "100%|██████████| 10/10 [22:38<00:00, 135.87s/it]\u001b[A\n",
            "100%|██████████| 10/10 [3:48:19<00:00, 1369.99s/it]\n"
          ]
        }
      ],
      "source": [
        "for i in tqdm(range(10)):\n",
        "    iidG = iidGaussian(M, N, m=0, v=1/M)\n",
        "    \n",
        "    for j in tqdm(range(10)):\n",
        "        x = bernouli_gaussian(N, rho)\n",
        "        tmpG = [0, 0, 0, 0]\n",
        "        \n",
        "        tmpG[0] = AMP(iidG.A, x, SNR)\n",
        "        tmpG[1] = D_AMP(iidG.A, x, SNR, P)\n",
        "        tmpG[2] = OAMP(iidG.A, x, SNR, iidG=True)\n",
        "        tmpG[3] = D_OAMP(iidG.A, x, SNR, P, iidG=True)\n",
        "\n",
        "        tmpG[0].estimate(T) # AMP\n",
        "        tmpG[1].estimate(T) # D-AMP\n",
        "        tmpG[2].estimate(T, C=1.9, ord='LMMSE') # OAMP\n",
        "        tmpG[3].estimate(T, C=1.9, ord='LMMSE') # D-OAMP\n",
        "        \n",
        "        n = 10*i + j\n",
        "        for k in range(4):\n",
        "            MSE_tmpG[k, n] = tmpG[k].mse\n",
        "        for k in range(2):\n",
        "            CommCost_tmpG[k, n] = tmpG[2*k+1].communication_cost"
      ]
    },
    {
      "cell_type": "code",
      "execution_count": null,
      "metadata": {
        "id": "TPRseBBYgwSr"
      },
      "outputs": [],
      "source": [
        "MSE_meanG = np.empty((4, T+1))\n",
        "CommCost_meanG = np.empty((2, T))\n",
        "for i in range(4):\n",
        "    MSE_meanG[i] = np.mean(MSE_tmpG[i], axis=0)\n",
        "for i in range(2):\n",
        "    CommCost_meanG[i] = np.mean(CommCost_tmpG[i], axis=0)"
      ]
    },
    {
      "cell_type": "code",
      "execution_count": null,
      "metadata": {
        "id": "UHYTJ0EagwSr"
      },
      "outputs": [],
      "source": [
        "ix1 = np.arange(0, T+1, 5)\n",
        "ix2 = np.arange(0, T, 5)\n",
        "it1 = np.arange(0, T+1, 1)\n",
        "it2 = np.arange(0, T, 1)"
      ]
    },
    {
      "cell_type": "markdown",
      "metadata": {
        "id": "UqnDXzIhgwSr"
      },
      "source": [
        "## MSE (100回平均)"
      ]
    },
    {
      "cell_type": "code",
      "execution_count": null,
      "metadata": {
        "id": "KsxtrZtcgwSs",
        "outputId": "2196c6f6-fa4c-45b4-a14b-94f92c2f0204"
      },
      "outputs": [
        {
          "data": {
            "text/plain": [
              "<matplotlib.legend.Legend at 0x7f20f4ca0d90>"
            ]
          },
          "execution_count": 18,
          "metadata": {
            "tags": []
          },
          "output_type": "execute_result"
        },
        {
          "data": {
            "image/png": "[encoded data removed]",
            "text/plain": [
              "<Figure size 432x396 with 1 Axes>"
            ]
          },
          "metadata": {
            "needs_background": "light",
            "tags": []
          },
          "output_type": "display_data"
        }
      ],
      "source": [
        "plt.figure(figsize=(6, 5.5))\n",
        "\n",
        "plt.xlabel('iteration')\n",
        "plt.ylabel('MSE')\n",
        "\n",
        "plt.xticks(ix1)\n",
        "plt.yscale('log')\n",
        "\n",
        "plt.ylim(1e-3, 3e+0)\n",
        "\n",
        "plt.plot(it1, MSE_meanG[0], label=\"AMP\")\n",
        "plt.plot(it1, MSE_meanG[1], label=\"D-AMP\", color='blue')\n",
        "plt.plot(it1, MSE_meanG[2], label=\"OAMP\", color='orange')\n",
        "plt.plot(it1, MSE_meanG[3], label=\"D-OAMP\", color='red')\n",
        "\n",
        "plt.legend()"
      ]
    },
    {
      "cell_type": "code",
      "execution_count": null,
      "metadata": {
        "id": "KtDY1obZgwSs"
      },
      "outputs": [],
      "source": [
        "standard = np.array([N * (P - 1) for _ in range(T)])"
      ]
    },
    {
      "cell_type": "markdown",
      "metadata": {
        "id": "DHM5yo9NgwSs"
      },
      "source": [
        "## 通信量 (100回平均)"
      ]
    },
    {
      "cell_type": "code",
      "execution_count": null,
      "metadata": {
        "id": "hoqjvM9PgwSs",
        "outputId": "bfb1b21d-a225-41ee-e537-ca2e4cc26c10"
      },
      "outputs": [
        {
          "data": {
            "text/plain": [
              "<matplotlib.legend.Legend at 0x7f20f4a35fd0>"
            ]
          },
          "execution_count": 20,
          "metadata": {
            "tags": []
          },
          "output_type": "execute_result"
        },
        {
          "data": {
            "image/png": "[encoded data removed]",
            "text/plain": [
              "<Figure size 432x396 with 1 Axes>"
            ]
          },
          "metadata": {
            "needs_background": "light",
            "tags": []
          },
          "output_type": "display_data"
        }
      ],
      "source": [
        "plt.figure(figsize=(6, 5.5))\n",
        "\n",
        "plt.xlabel('iteration')\n",
        "plt.ylabel('Communication Cost')\n",
        "\n",
        "plt.xticks(ix2)\n",
        "\n",
        "plt.plot(it2, CommCost_meanG[0], label='D-AMP')\n",
        "plt.plot(it2, CommCost_meanG[1], label='D-OAMP')\n",
        "plt.plot(it2, standard, ls='--', color='r', label='Standard')\n",
        "\n",
        "plt.legend()"
      ]
    },
    {
      "cell_type": "code",
      "execution_count": null,
      "metadata": {
        "id": "dIKlcU9AgwSt"
      },
      "outputs": [],
      "source": []
    },
    {
      "cell_type": "code",
      "execution_count": null,
      "metadata": {
        "id": "N3PIlFPFgwSt"
      },
      "outputs": [],
      "source": []
    },
    {
      "cell_type": "code",
      "execution_count": null,
      "metadata": {
        "id": "aOJUxSuMgwSt"
      },
      "outputs": [],
      "source": []
    },
    {
      "cell_type": "markdown",
      "metadata": {
        "id": "Tsnhk8rhgwSt"
      },
      "source": [
        "# ユニタリ不変行列での信号再構成"
      ]
    },
    {
      "cell_type": "code",
      "execution_count": null,
      "metadata": {
        "id": "zjA4ArsQgwSt"
      },
      "outputs": [],
      "source": [
        "MSE_tmpU = np.empty((4, sim, T+1))\n",
        "CommCost_tmpU = np.empty((2, sim, T))"
      ]
    },
    {
      "cell_type": "code",
      "execution_count": null,
      "metadata": {
        "id": "SJ5usIT6gwSt",
        "outputId": "4cc1cfca-02da-45d0-9a59-a9c973dc7dcf"
      },
      "outputs": [
        {
          "name": "stderr",
          "output_type": "stream",
          "text": [
            "  0%|          | 0/10 [00:00<?, ?it/s]\n",
            "  0%|          | 0/10 [00:00<?, ?it/s]\u001b[A\n",
            " 10%|█         | 1/10 [03:53<34:58, 233.13s/it]\u001b[A\n",
            " 20%|██        | 2/10 [07:41<30:42, 230.35s/it]\u001b[A\n",
            " 30%|███       | 3/10 [11:32<26:55, 230.72s/it]\u001b[A\n",
            " 40%|████      | 4/10 [15:21<22:58, 229.77s/it]\u001b[A\n",
            " 50%|█████     | 5/10 [19:12<19:11, 230.33s/it]\u001b[A\n",
            " 60%|██████    | 6/10 [23:02<15:21, 230.30s/it]\u001b[A\n",
            " 70%|███████   | 7/10 [26:52<11:30, 230.10s/it]\u001b[A\n",
            " 80%|████████  | 8/10 [30:38<07:38, 229.02s/it]\u001b[A\n",
            " 90%|█████████ | 9/10 [34:24<03:47, 228.00s/it]\u001b[A\n",
            "100%|██████████| 10/10 [38:16<00:00, 229.62s/it]\u001b[A\n",
            " 10%|█         | 1/10 [43:17<6:29:34, 2597.21s/it]\n",
            "  0%|          | 0/10 [00:00<?, ?it/s]\u001b[A\n",
            " 10%|█         | 1/10 [03:45<33:45, 225.01s/it]\u001b[A\n",
            " 20%|██        | 2/10 [07:36<30:29, 228.73s/it]\u001b[A\n",
            " 30%|███       | 3/10 [11:24<26:38, 228.34s/it]\u001b[A\n",
            " 40%|████      | 4/10 [15:12<22:49, 228.22s/it]\u001b[A\n",
            " 50%|█████     | 5/10 [19:00<19:01, 228.27s/it]\u001b[A\n",
            " 60%|██████    | 6/10 [22:54<15:20, 230.18s/it]\u001b[A\n",
            " 70%|███████   | 7/10 [26:51<11:37, 232.34s/it]\u001b[A\n",
            " 80%|████████  | 8/10 [30:45<07:45, 232.87s/it]\u001b[A\n",
            " 90%|█████████ | 9/10 [34:37<03:52, 232.58s/it]\u001b[A\n",
            "100%|██████████| 10/10 [38:25<00:00, 230.52s/it]\u001b[A\n",
            " 20%|██        | 2/10 [1:27:29<5:50:35, 2629.44s/it]\n",
            "  0%|          | 0/10 [00:00<?, ?it/s]\u001b[A\n",
            " 10%|█         | 1/10 [03:46<33:57, 226.42s/it]\u001b[A\n",
            " 20%|██        | 2/10 [07:30<29:58, 224.75s/it]\u001b[A\n",
            " 30%|███       | 3/10 [11:09<25:56, 222.35s/it]\u001b[A\n",
            " 40%|████      | 4/10 [15:04<22:44, 227.48s/it]\u001b[A\n",
            " 50%|█████     | 5/10 [18:50<18:53, 226.73s/it]\u001b[A\n",
            " 60%|██████    | 6/10 [22:41<15:12, 228.12s/it]\u001b[A\n",
            " 70%|███████   | 7/10 [26:31<11:27, 229.03s/it]\u001b[A\n",
            " 80%|████████  | 8/10 [30:23<07:39, 229.80s/it]\u001b[A\n",
            " 90%|█████████ | 9/10 [34:20<03:52, 232.13s/it]\u001b[A\n",
            "100%|██████████| 10/10 [38:06<00:00, 228.64s/it]\u001b[A\n",
            " 30%|███       | 3/10 [2:11:09<5:06:15, 2625.07s/it]\n",
            "  0%|          | 0/10 [00:00<?, ?it/s]\u001b[A\n",
            " 10%|█         | 1/10 [03:47<34:11, 227.95s/it]\u001b[A\n",
            " 20%|██        | 2/10 [07:38<30:34, 229.28s/it]\u001b[A\n",
            " 30%|███       | 3/10 [11:26<26:40, 228.70s/it]\u001b[A\n",
            " 40%|████      | 4/10 [15:17<22:58, 229.68s/it]\u001b[A\n",
            " 50%|█████     | 5/10 [19:06<19:06, 229.36s/it]\u001b[A\n",
            " 60%|██████    | 6/10 [22:59<15:22, 230.66s/it]\u001b[A\n",
            " 70%|███████   | 7/10 [26:47<11:29, 229.81s/it]\u001b[A\n",
            " 80%|████████  | 8/10 [30:35<07:38, 229.29s/it]\u001b[A\n",
            " 90%|█████████ | 9/10 [34:32<03:51, 231.60s/it]\u001b[A\n",
            "100%|██████████| 10/10 [38:29<00:00, 230.96s/it]\u001b[A\n",
            " 40%|████      | 4/10 [2:55:08<4:23:05, 2630.86s/it]\n",
            "  0%|          | 0/10 [00:00<?, ?it/s]\u001b[A\n",
            " 10%|█         | 1/10 [03:46<33:58, 226.48s/it]\u001b[A\n",
            " 20%|██        | 2/10 [07:37<30:33, 229.16s/it]\u001b[A\n",
            " 30%|███       | 3/10 [11:26<26:44, 229.19s/it]\u001b[A\n",
            " 40%|████      | 4/10 [15:10<22:43, 227.22s/it]\u001b[A\n",
            " 50%|█████     | 5/10 [19:03<19:04, 228.98s/it]\u001b[A\n",
            " 60%|██████    | 6/10 [22:55<15:20, 230.01s/it]\u001b[A\n",
            " 70%|███████   | 7/10 [26:35<11:20, 226.89s/it]\u001b[A\n",
            " 80%|████████  | 8/10 [30:17<07:30, 225.25s/it]\u001b[A\n",
            " 90%|█████████ | 9/10 [34:06<03:46, 226.51s/it]\u001b[A\n",
            "100%|██████████| 10/10 [37:49<00:00, 226.92s/it]\u001b[A\n",
            " 50%|█████     | 5/10 [3:38:40<3:38:40, 2624.09s/it]\n",
            "  0%|          | 0/10 [00:00<?, ?it/s]\u001b[A\n",
            " 10%|█         | 1/10 [03:44<33:39, 224.39s/it]\u001b[A\n",
            " 20%|██        | 2/10 [07:29<29:57, 224.69s/it]\u001b[A\n",
            " 30%|███       | 3/10 [11:25<26:48, 229.77s/it]\u001b[A\n",
            " 40%|████      | 4/10 [15:09<22:46, 227.77s/it]\u001b[A\n",
            " 50%|█████     | 5/10 [18:53<18:51, 226.30s/it]\u001b[A\n",
            " 60%|██████    | 6/10 [22:34<14:57, 224.37s/it]\u001b[A\n",
            " 70%|███████   | 7/10 [26:21<11:15, 225.19s/it]\u001b[A\n",
            " 80%|████████  | 8/10 [30:10<07:33, 226.53s/it]\u001b[A\n",
            " 90%|█████████ | 9/10 [33:56<03:46, 226.50s/it]\u001b[A\n",
            "100%|██████████| 10/10 [37:45<00:00, 226.55s/it]\u001b[A\n",
            " 60%|██████    | 6/10 [4:21:54<2:54:14, 2613.75s/it]\n",
            "  0%|          | 0/10 [00:00<?, ?it/s]\u001b[A\n",
            " 10%|█         | 1/10 [03:38<32:46, 218.52s/it]\u001b[A\n",
            " 20%|██        | 2/10 [07:15<28:59, 217.43s/it]\u001b[A\n",
            " 30%|███       | 3/10 [10:50<25:15, 216.57s/it]\u001b[A\n",
            " 40%|████      | 4/10 [14:33<21:55, 219.20s/it]\u001b[A\n",
            " 50%|█████     | 5/10 [18:12<18:14, 218.86s/it]\u001b[A\n",
            " 60%|██████    | 6/10 [21:50<14:35, 218.83s/it]\u001b[A\n",
            " 70%|███████   | 7/10 [25:31<10:57, 219.22s/it]\u001b[A\n",
            " 80%|████████  | 8/10 [29:20<07:24, 222.34s/it]\u001b[A\n",
            " 90%|█████████ | 9/10 [33:04<03:42, 222.91s/it]\u001b[A\n",
            "100%|██████████| 10/10 [36:46<00:00, 220.65s/it]\u001b[A\n",
            " 70%|███████   | 7/10 [5:04:06<2:09:21, 2587.05s/it]\n",
            "  0%|          | 0/10 [00:00<?, ?it/s]\u001b[A\n",
            " 10%|█         | 1/10 [03:48<34:16, 228.51s/it]\u001b[A\n",
            " 20%|██        | 2/10 [07:42<30:55, 231.94s/it]\u001b[A\n",
            " 30%|███       | 3/10 [11:24<26:29, 227.03s/it]\u001b[A\n",
            " 40%|████      | 4/10 [15:08<22:36, 226.06s/it]\u001b[A\n",
            " 50%|█████     | 5/10 [18:51<18:44, 224.82s/it]\u001b[A\n",
            " 60%|██████    | 6/10 [22:30<14:52, 223.04s/it]\u001b[A\n",
            " 70%|███████   | 7/10 [26:14<11:09, 223.20s/it]\u001b[A\n",
            " 80%|████████  | 8/10 [29:54<07:24, 222.38s/it]\u001b[A\n",
            " 90%|█████████ | 9/10 [33:32<03:40, 220.89s/it]\u001b[A\n",
            "100%|██████████| 10/10 [37:15<00:00, 223.55s/it]\u001b[A\n",
            " 80%|████████  | 8/10 [5:46:48<1:25:58, 2579.14s/it]\n",
            "  0%|          | 0/10 [00:00<?, ?it/s]\u001b[A\n",
            " 10%|█         | 1/10 [03:36<32:24, 216.11s/it]\u001b[A\n",
            " 20%|██        | 2/10 [07:16<29:09, 218.63s/it]\u001b[A\n",
            " 30%|███       | 3/10 [10:57<25:38, 219.74s/it]\u001b[A\n",
            " 40%|████      | 4/10 [14:33<21:50, 218.38s/it]\u001b[A\n",
            " 50%|█████     | 5/10 [18:07<18:03, 216.68s/it]\u001b[A\n",
            " 60%|██████    | 6/10 [21:40<14:22, 215.52s/it]\u001b[A\n",
            " 70%|███████   | 7/10 [25:14<10:44, 214.94s/it]\u001b[A\n",
            " 80%|████████  | 8/10 [28:50<07:10, 215.27s/it]\u001b[A\n",
            " 90%|█████████ | 9/10 [32:29<03:36, 216.46s/it]\u001b[A\n",
            "100%|██████████| 10/10 [36:03<00:00, 216.34s/it]\u001b[A\n",
            " 90%|█████████ | 9/10 [6:28:39<42:37, 2557.67s/it]  \n",
            "  0%|          | 0/10 [00:00<?, ?it/s]\u001b[A\n",
            " 10%|█         | 1/10 [03:47<34:11, 227.95s/it]\u001b[A\n",
            " 20%|██        | 2/10 [07:33<30:10, 226.31s/it]\u001b[A\n",
            " 30%|███       | 3/10 [11:15<26:10, 224.41s/it]\u001b[A\n",
            " 40%|████      | 4/10 [14:56<22:17, 222.97s/it]\u001b[A\n",
            " 50%|█████     | 5/10 [18:40<18:38, 223.66s/it]\u001b[A\n",
            " 60%|██████    | 6/10 [22:22<14:52, 223.10s/it]\u001b[A\n",
            " 70%|███████   | 7/10 [26:05<11:08, 222.89s/it]\u001b[A\n",
            " 80%|████████  | 8/10 [29:46<07:24, 222.26s/it]\u001b[A\n",
            " 90%|█████████ | 9/10 [33:25<03:41, 221.41s/it]\u001b[A\n",
            "100%|██████████| 10/10 [37:04<00:00, 222.49s/it]\u001b[A\n",
            "100%|██████████| 10/10 [7:10:07<00:00, 2580.79s/it]\n"
          ]
        }
      ],
      "source": [
        "for i in tqdm(range(10)):\n",
        "    UniInv = UniInvar(M, N, kappa)\n",
        "    \n",
        "    for j in tqdm(range(10)):\n",
        "        x = bernouli_gaussian(N, rho)\n",
        "        tmpU = [0, 0, 0, 0]\n",
        "        \n",
        "        tmpU[0] = AMP(UniInv.A, x, SNR)\n",
        "        tmpU[1] = D_AMP(UniInv.A, x, SNR, P)\n",
        "        tmpU[2] = OAMP(UniInv.A, x, SNR)\n",
        "        tmpU[3] = D_OAMP(UniInv.A, x, SNR, P)\n",
        "\n",
        "        tmpU[0].estimate(T) # AMP\n",
        "        tmpU[1].estimate(T) # D-AMP\n",
        "        tmpU[2].estimate(T, C=1.9, ord='LMMSE') # OAMP\n",
        "        tmpU[3].estimate(T, C=1.9, ord='LMMSE') # D-OAMP\n",
        "        \n",
        "        n = 10*i + j\n",
        "        for k in range(4):\n",
        "            MSE_tmpU[k, n] = tmpU[k].mse\n",
        "        for k in range(2):\n",
        "            CommCost_tmpU[k, n] = tmpU[2*k+1].communication_cost"
      ]
    },
    {
      "cell_type": "code",
      "execution_count": null,
      "metadata": {
        "id": "WitWBm_IgwSu"
      },
      "outputs": [],
      "source": [
        "MSE_meanU = np.empty((4, T+1))\n",
        "CommCost_meanU = np.empty((2, T))\n",
        "for i in range(4):\n",
        "    MSE_meanU[i] = np.mean(MSE_tmpU[i], axis=0)\n",
        "for i in range(2):\n",
        "    CommCost_meanU[i] = np.mean(CommCost_tmpU[i], axis=0)"
      ]
    },
    {
      "cell_type": "markdown",
      "metadata": {
        "id": "0d0Dc2jBgwSu"
      },
      "source": [
        "## MSE (100回平均)"
      ]
    },
    {
      "cell_type": "code",
      "execution_count": null,
      "metadata": {
        "id": "LztHbOFCgwSu",
        "outputId": "5b848d7e-e4c4-4687-ae4a-c210daff59ad"
      },
      "outputs": [
        {
          "data": {
            "text/plain": [
              "<matplotlib.legend.Legend at 0x7f20f48897c0>"
            ]
          },
          "execution_count": 26,
          "metadata": {
            "tags": []
          },
          "output_type": "execute_result"
        },
        {
          "data": {
            "image/png": "[encoded data removed]",
            "text/plain": [
              "<Figure size 432x396 with 1 Axes>"
            ]
          },
          "metadata": {
            "needs_background": "light",
            "tags": []
          },
          "output_type": "display_data"
        }
      ],
      "source": [
        "plt.figure(figsize=(6, 5.5))\n",
        "\n",
        "plt.xlabel('iteration')\n",
        "plt.ylabel('MSE')\n",
        "\n",
        "plt.xticks(ix1)\n",
        "plt.yscale('log')\n",
        "\n",
        "plt.ylim(1e-3, 3e+0)\n",
        "\n",
        "plt.plot(it1, MSE_meanU[0], label=\"AMP\")\n",
        "plt.plot(it1, MSE_meanU[1], label=\"D-AMP\", color='blue')\n",
        "plt.plot(it1, MSE_meanU[2], label=\"OAMP\", color='orange')\n",
        "plt.plot(it1, MSE_meanU[3], label=\"D-OAMP\", color='red')\n",
        "\n",
        "plt.legend()"
      ]
    },
    {
      "cell_type": "markdown",
      "metadata": {
        "id": "V3fV8JgBgwSu"
      },
      "source": [
        "## 通信量 (100回平均)"
      ]
    },
    {
      "cell_type": "code",
      "execution_count": null,
      "metadata": {
        "id": "lhR1yfNXgwSu",
        "outputId": "a19d683b-e91d-41c6-efc5-64c7c84778fa"
      },
      "outputs": [
        {
          "data": {
            "text/plain": [
              "<matplotlib.legend.Legend at 0x7f20f48080a0>"
            ]
          },
          "execution_count": 27,
          "metadata": {
            "tags": []
          },
          "output_type": "execute_result"
        },
        {
          "data": {
            "image/png": "[encoded data removed]",
            "text/plain": [
              "<Figure size 432x396 with 1 Axes>"
            ]
          },
          "metadata": {
            "needs_background": "light",
            "tags": []
          },
          "output_type": "display_data"
        }
      ],
      "source": [
        "plt.figure(figsize=(6, 5.5))\n",
        "\n",
        "plt.xlabel('iteration')\n",
        "plt.ylabel('Communication Cost')\n",
        "\n",
        "plt.xticks(ix2)\n",
        "\n",
        "plt.plot(it2, CommCost_meanU[0], label='D-AMP')\n",
        "plt.plot(it2, CommCost_meanU[1], label='D-OAMP')\n",
        "plt.plot(it2, standard, ls='--', color='r', label='Standard')\n",
        "\n",
        "plt.legend()"
      ]
    },
    {
      "cell_type": "code",
      "execution_count": null,
      "metadata": {
        "id": "M22B_q7pgwSv"
      },
      "outputs": [],
      "source": []
    }
  ],
  "metadata": {
    "colab": {
      "collapsed_sections": [],
      "name": "sample2.ipynb",
      "provenance": []
    },
    "interpreter": {
      "hash": "916dbcbb3f70747c44a77c7bcd40155683ae19c65e1c03b4aa3499c5328201f1"
    },
    "kernelspec": {
      "display_name": "Python 3.8.5 64-bit",
      "name": "python3"
    },
    "language_info": {
      "name": "python",
      "version": ""
    }
  },
  "nbformat": 4,
  "nbformat_minor": 0
}